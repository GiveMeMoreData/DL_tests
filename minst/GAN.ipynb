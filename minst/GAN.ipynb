{
 "cells": [
  {
   "cell_type": "markdown",
   "id": "aquatic-relay",
   "metadata": {},
   "source": [
    "## Mnist dataset inspection and transformation"
   ]
  },
  {
   "cell_type": "code",
   "execution_count": 1,
   "id": "surgical-allah",
   "metadata": {},
   "outputs": [],
   "source": [
    "import pandas as pd\n",
    "import numpy as np\n",
    "import matplotlib.pyplot as plt\n",
    "import idx2numpy\n",
    "\n",
    "import tensorflow as tf\n",
    "\n",
    "from sklearn.metrics import roc_curve, roc_auc_score, auc, jaccard_score"
   ]
  },
  {
   "cell_type": "markdown",
   "id": "micro-locator",
   "metadata": {},
   "source": [
    "### Training\n"
   ]
  },
  {
   "cell_type": "code",
   "execution_count": 8,
   "id": "optimum-assist",
   "metadata": {},
   "outputs": [],
   "source": [
    "X_train = idx2numpy.convert_from_file('data/train-images.idx3-ubyte')\n",
    "train_labels = idx2numpy.convert_from_file('data/train-labels.idx1-ubyte')\n",
    "Y_train = pd.get_dummies(train_labels).to_numpy()"
   ]
  },
  {
   "cell_type": "markdown",
   "id": "opening-witch",
   "metadata": {},
   "source": [
    "\n",
    "### Test data\n"
   ]
  },
  {
   "cell_type": "code",
   "execution_count": 9,
   "id": "facial-doubt",
   "metadata": {},
   "outputs": [],
   "source": [
    "X_test = idx2numpy.convert_from_file('data/t10k-images.idx3-ubyte')\n",
    "test_labels = idx2numpy.convert_from_file('data/t10k-labels.idx1-ubyte')\n",
    "Y_test = pd.get_dummies(test_labels).to_numpy()"
   ]
  },
  {
   "cell_type": "code",
   "execution_count": null,
   "id": "simplified-major",
   "metadata": {},
   "outputs": [],
   "source": []
  },
  {
   "cell_type": "markdown",
   "id": "modified-norwegian",
   "metadata": {},
   "source": [
    "## Generator"
   ]
  },
  {
   "cell_type": "code",
   "execution_count": null,
   "id": "optical-courage",
   "metadata": {},
   "outputs": [],
   "source": []
  },
  {
   "cell_type": "markdown",
   "id": "choice-outside",
   "metadata": {},
   "source": [
    "## Descreminator"
   ]
  },
  {
   "cell_type": "code",
   "execution_count": null,
   "id": "responsible-blond",
   "metadata": {},
   "outputs": [],
   "source": []
  },
  {
   "cell_type": "code",
   "execution_count": null,
   "id": "sensitive-introduction",
   "metadata": {},
   "outputs": [],
   "source": []
  }
 ],
 "metadata": {
  "kernelspec": {
   "display_name": "Python 3",
   "language": "python",
   "name": "python3"
  },
  "language_info": {
   "codemirror_mode": {
    "name": "ipython",
    "version": 3
   },
   "file_extension": ".py",
   "mimetype": "text/x-python",
   "name": "python",
   "nbconvert_exporter": "python",
   "pygments_lexer": "ipython3",
   "version": "3.8.8"
  }
 },
 "nbformat": 4,
 "nbformat_minor": 5
}
