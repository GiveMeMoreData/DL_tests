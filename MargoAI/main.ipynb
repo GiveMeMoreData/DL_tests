{
 "cells": [
  {
   "cell_type": "markdown",
   "metadata": {},
   "source": [
    "jupyter lab# MARGO AI\n"
   ]
  },
  {
   "cell_type": "markdown",
   "metadata": {},
   "source": [
    "### CORE \n",
    "Has to be loaded"
   ]
  },
  {
   "cell_type": "code",
   "execution_count": 1,
   "metadata": {},
   "outputs": [],
   "source": [
    "from margo_handler import * "
   ]
  },
  {
   "cell_type": "markdown",
   "metadata": {},
   "source": [
    "## Game start"
   ]
  },
  {
   "cell_type": "code",
   "execution_count": 2,
   "metadata": {},
   "outputs": [
    {
     "name": "stdout",
     "output_type": "stream",
     "text": [
      "Map size (16,16)\n"
     ]
    }
   ],
   "source": [
    "margo = MargoHandler()\n",
    "\n",
    "margo.game_start()\n",
    "margo.switch_to_old_interface()\n",
    "margo.get_map_size()"
   ]
  },
  {
   "cell_type": "markdown",
   "metadata": {},
   "source": [
    "## TODO"
   ]
  },
  {
   "cell_type": "code",
   "execution_count": 3,
   "metadata": {},
   "outputs": [],
   "source": [
    "\n",
    "\n",
    "\"\"\"\n",
    "Starts battle with nearby enemy\n",
    "\"\"\"\n",
    "def attack():\n",
    "    pass\n",
    "\n",
    "\"\"\"\n",
    "NOT FOR AI\n",
    "\n",
    "We only pass npc, this function should by itself do all necessary steps to get nearby this npc\n",
    "\"\"\"\n",
    "def walk_to_npc(npc):\n",
    "    pass\n",
    "\n",
    "\n",
    "def use_item():\n",
    "    pass\n"
   ]
  },
  {
   "cell_type": "markdown",
   "metadata": {},
   "source": [
    "## Playground"
   ]
  },
  {
   "cell_type": "code",
   "execution_count": null,
   "metadata": {},
   "outputs": [],
   "source": []
  },
  {
   "cell_type": "code",
   "execution_count": 4,
   "metadata": {},
   "outputs": [
    {
     "name": "stdout",
     "output_type": "stream",
     "text": [
      "NPCs loaded\n",
      "Enemies: 135\n",
      "NPCs: 12\n",
      "Doors: 5\n"
     ]
    }
   ],
   "source": [
    "margo.get_all_npc()"
   ]
  }
 ],
 "metadata": {
  "kernelspec": {
   "display_name": "Python 3",
   "language": "python",
   "name": "python3"
  },
  "language_info": {
   "codemirror_mode": {
    "name": "ipython",
    "version": 3
   },
   "file_extension": ".py",
   "mimetype": "text/x-python",
   "name": "python",
   "nbconvert_exporter": "python",
   "pygments_lexer": "ipython3",
   "version": "3.8.8"
  }
 },
 "nbformat": 4,
 "nbformat_minor": 2
}
